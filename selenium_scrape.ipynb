{
 "cells": [
  {
   "cell_type": "code",
   "execution_count": 8,
   "metadata": {},
   "outputs": [],
   "source": [
    "import selenium\n",
    "\n",
    "driver = selenium.webdriver.Chrome()\n",
    "assert \"Python\" in driver.title\n",
    "\n",
    "driver.get(\"http://google.com\")"
   ]
  }
 ],
 "metadata": {
  "interpreter": {
   "hash": "c7840307214327e909cec4b526aad52de97734debf6f5ce985f1b34f53664574"
  },
  "kernelspec": {
   "display_name": "Python 3.9.6 64-bit",
   "language": "python",
   "name": "python3"
  },
  "language_info": {
   "codemirror_mode": {
    "name": "ipython",
    "version": 3
   },
   "file_extension": ".py",
   "mimetype": "text/x-python",
   "name": "python",
   "nbconvert_exporter": "python",
   "pygments_lexer": "ipython3",
   "version": "3.9.6"
  },
  "orig_nbformat": 4
 },
 "nbformat": 4,
 "nbformat_minor": 2
}
